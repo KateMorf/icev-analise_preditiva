{
  "cell_type": "markdown",
  "metadata": {},
  "source": [
    "# Estudo de caso - Ocorrencias Criminais",
    "Este é um exemplo de célula de texto em *Markdown*."
  ]
}
