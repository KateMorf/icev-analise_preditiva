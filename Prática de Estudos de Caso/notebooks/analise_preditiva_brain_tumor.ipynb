{
  "cell_type": "markdown",
  "metadata": {},
  "source": [
    "# Estudo de caso - Dataset Brain Tumor",
    "Este é um exemplo de célula de texto em *Markdown*."
  ]
}
